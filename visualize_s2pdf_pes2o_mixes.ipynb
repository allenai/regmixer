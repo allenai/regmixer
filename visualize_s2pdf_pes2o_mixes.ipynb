{
 "cells": [
  {
   "cell_type": "code",
   "execution_count": null,
   "id": "8fb31807",
   "metadata": {},
   "outputs": [],
   "source": [
    "%load_ext autoreload\n",
    "%autoreload 2"
   ]
  },
  {
   "cell_type": "code",
   "execution_count": null,
   "id": "46acfa7b",
   "metadata": {},
   "outputs": [],
   "source": [
    "import matplotlib.pyplot as plt\n",
    "import numpy as np\n",
    "import os\n",
    "import json\n",
    "from collections import defaultdict\n",
    "\n",
    "from regmixer.utils import config_from_path\n",
    "from regmixer.eval.utils import (\n",
    "    calculate_priors_with_manual,\n",
    "    )"
   ]
  },
  {
   "cell_type": "code",
   "execution_count": null,
   "id": "47a4b5de",
   "metadata": {},
   "outputs": [],
   "source": [
    "# replace with your swarm config\n",
    "config = \"src/regmixer/config/superswarm_conditional_dclm_stackedu.yaml\"\n",
    "launch_config = config_from_path(config)\n",
    "\n",
    "\n",
    "# priors[1][0] will contain a dictionary with the prior at the leaf-level.\n",
    "priors = calculate_priors_with_manual(\n",
    "        source_configs=launch_config.sources,\n",
    "        dtype=launch_config.dtype,\n",
    "        use_cache=True,\n",
    "        manual_prior=launch_config.manual_prior if hasattr(launch_config, 'manual_prior') else None,\n",
    "        fixed_source_weights=launch_config.fixed_source_weights if hasattr(launch_config, 'fixed_source_weights') else None,\n",
    "    )"
   ]
  },
  {
   "cell_type": "markdown",
   "id": "f9564de4",
   "metadata": {},
   "source": [
    "# Format proposed mixes"
   ]
  },
  {
   "cell_type": "markdown",
   "id": "15440371",
   "metadata": {},
   "source": [
    "Note: this notebook currently just supports the natural distribution and mixes produced by regmixer. Doesn't support other hardcoded mixes yet (but we can easily add that - load in the mix from yaml)"
   ]
  },
  {
   "cell_type": "code",
   "execution_count": null,
   "id": "a4c6eebd",
   "metadata": {},
   "outputs": [],
   "source": [
    "def get_source_mix(mix):\n",
    "    # extracts source-level mix from a leaf-level mix\n",
    "    source_level = defaultdict(float)\n",
    "    for source, weight in mix.items():\n",
    "        if source.startswith(\"dclm:\"):\n",
    "            source_level[\"dclm\"] += weight\n",
    "        elif source.startswith(\"s2pdf:\"):\n",
    "            source_level[\"s2pdf\"] += weight\n",
    "        elif source.startswith(\"stack-edu:\"):\n",
    "            source_level[\"stack-edu\"] += weight\n",
    "        elif source.startswith(\"pes2o:\"):\n",
    "            source_level[\"pes2o\"] += weight\n",
    "        else:\n",
    "            source_level[source] += weight\n",
    "    return source_level\n",
    "\n",
    "def get_topic_mix(source, mix):\n",
    "    # extracts normalized topic-level mix for the source specified\n",
    "    topic_weights = {k: v for k, v in mix.items() if k.startswith(source + \":\")}\n",
    "    total_weight = sum(topic_weights.values())\n",
    "    normalized_weights = {k: v / total_weight for k, v in topic_weights.items()}\n",
    "\n",
    "    return normalized_weights"
   ]
  },
  {
   "cell_type": "code",
   "execution_count": null,
   "id": "72dbf314",
   "metadata": {},
   "outputs": [],
   "source": [
    "def plot_mixes(mix_dict, desc):\n",
    "    # constructs a bar chart of all mixes\n",
    "    # mix_dict maps from a mix name to a mix, where mix = dictionary of domains:weights\n",
    "    # desc is the title of the plot\n",
    "    mix_dict = dict(sorted(mix_dict.items()))\n",
    "\n",
    "    # Step 2: Collect all unique keys\n",
    "    all_keys = sorted(set().union(*[d.keys() for d in mix_dict.values()]))\n",
    "\n",
    "    # Step 3: Extract values for each dict, aligning with `all_keys`\n",
    "    values_matrix = [\n",
    "        [d.get(k, 0) for k in all_keys]\n",
    "        for d in mix_dict.values()\n",
    "    ]\n",
    "\n",
    "    # Step 4: Plot grouped bars with annotations\n",
    "    n_dicts = len(mix_dict)\n",
    "    x = np.arange(len(all_keys))\n",
    "    bar_width = 0.8 / n_dicts\n",
    "\n",
    "    fig, ax = plt.subplots(figsize=(20, 8))\n",
    "\n",
    "    for i, (label, values) in enumerate(zip(mix_dict.keys(), values_matrix)):\n",
    "        offset = (i - (n_dicts - 1) / 2) * bar_width\n",
    "        bars = ax.bar(x + offset, values, width=bar_width, label=label)\n",
    "\n",
    "        # Annotate each bar\n",
    "        for bar in bars:\n",
    "            height = bar.get_height()\n",
    "            if height > 0:\n",
    "                ax.text(\n",
    "                    bar.get_x() + bar.get_width() / 2,\n",
    "                    height + 0.01,               # use this only for vertical position\n",
    "                    f\"{height:.3f}\",             # display the correct value\n",
    "                    ha='center',\n",
    "                    va='bottom',\n",
    "                    fontsize=10,\n",
    "                    rotation=90\n",
    "                )\n",
    "\n",
    "\n",
    "    # Step 5: Format the plot\n",
    "    ax.set_xticks(x)\n",
    "    ax.set_xticklabels(all_keys, rotation=90, fontsize=16)\n",
    "    ax.set_ylabel(\"Value\")\n",
    "    ax.set_title(desc, fontsize=20)\n",
    "    ax.legend(title=\"Source\", fontsize=16)\n",
    "    plt.tight_layout()\n",
    "    plt.show()\n"
   ]
  },
  {
   "cell_type": "markdown",
   "id": "f19f4f47",
   "metadata": {},
   "source": [
    "Load in data from rmc-eval output"
   ]
  },
  {
   "cell_type": "code",
   "execution_count": null,
   "id": "8ae8c5bb",
   "metadata": {},
   "outputs": [],
   "source": [
    "path = \"output/0cb55cb5/REPLACE_THIS/olmo3_offline_tasks_log_linear_reg_1_samples_optimal.json\"\n",
    "with open(path, \"r\") as f:\n",
    "    unconstrained_mix = json.load(f)\n",
    "\n",
    "unconstrained_mix = {m['domain']: m['weight'] for m in unconstrained_mix}"
   ]
  },
  {
   "cell_type": "code",
   "execution_count": null,
   "id": "bd6fce46",
   "metadata": {},
   "outputs": [],
   "source": [
    "# this folder contains all the proposed mixes where we set --repetition-factor\n",
    "folder = \"output/0cb55cb5/?????\"\n",
    "runs = os.listdir(folder)\n",
    "\n",
    "sweep_repetition_factor = {}\n",
    "for run in runs:\n",
    "    config_path = os.path.join(folder, run, \"config.json\")\n",
    "    mix_path = os.path.join(folder, run, \"olmo3_offline_tasks_log_linear_reg_1_samples_optimal.json\")\n",
    "\n",
    "    with open(config_path, \"r\") as f:\n",
    "        config = json.load(f)\n",
    "\n",
    "    if 'repetition_factor' in config:\n",
    "        repetition_factor = config['repetition_factor']\n",
    "    else:\n",
    "        repetition_factor = 1\n",
    "\n",
    "    print(mix_path, repetition_factor)\n",
    "\n",
    "    with open(mix_path, \"r\") as f:\n",
    "        mix = json.load(f)\n",
    "\n",
    "    sweep_repetition_factor[str(repetition_factor)] = {m['domain']: m['weight'] for m in mix}\n"
   ]
  },
  {
   "cell_type": "code",
   "execution_count": null,
   "id": "da2b893b",
   "metadata": {},
   "outputs": [],
   "source": [
    "all_pes2o_mixes = {}\n",
    "for rep, mix in sweep_repetition_factor.items():\n",
    "    dclm_mix = get_topic_mix(\"pes2o\", mix)\n",
    "    all_pes2o_mixes[rep] = dclm_mix\n",
    "\n",
    "all_pes2o_mixes['unconstrained'] = get_topic_mix(\"pes2o\", unconstrained_mix)\n",
    "all_pes2o_mixes['manual prior'] = get_topic_mix(\"pes2o\", priors[1][0])\n",
    "all_s2pdf_mixes = {}\n",
    "\n",
    "for rep, mix in sweep_repetition_factor.items():\n",
    "    dclm_mix = get_topic_mix(\"s2pdf\", mix)\n",
    "    all_s2pdf_mixes[rep] = dclm_mix\n",
    "\n",
    "all_s2pdf_mixes['unconstrained'] = get_topic_mix(\"s2pdf\", unconstrained_mix)\n",
    "all_s2pdf_mixes['manual prior'] = get_topic_mix(\"s2pdf\", priors[1][0])"
   ]
  },
  {
   "cell_type": "code",
   "execution_count": null,
   "id": "592e3857",
   "metadata": {},
   "outputs": [],
   "source": [
    "plot_mixes(all_s2pdf_mixes, \"s2pdf\")\n",
    "plot_mixes(all_pes2o_mixes, \"pes2o\")"
   ]
  }
 ],
 "metadata": {
  "kernelspec": {
   "display_name": ".venv",
   "language": "python",
   "name": "python3"
  },
  "language_info": {
   "codemirror_mode": {
    "name": "ipython",
    "version": 3
   },
   "file_extension": ".py",
   "mimetype": "text/x-python",
   "name": "python",
   "nbconvert_exporter": "python",
   "pygments_lexer": "ipython3",
   "version": "3.11.11"
  }
 },
 "nbformat": 4,
 "nbformat_minor": 5
}
