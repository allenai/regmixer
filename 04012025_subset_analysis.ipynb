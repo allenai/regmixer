{
 "cells": [
  {
   "cell_type": "code",
   "execution_count": 91,
   "metadata": {},
   "outputs": [
    {
     "name": "stdout",
     "output_type": "stream",
     "text": [
      "The autoreload extension is already loaded. To reload it, use:\n",
      "  %reload_ext autoreload\n"
     ]
    }
   ],
   "source": [
    "%load_ext autoreload\n",
    "%autoreload 2\n"
   ]
  },
  {
   "cell_type": "code",
   "execution_count": 2,
   "metadata": {},
   "outputs": [
    {
     "name": "stderr",
     "output_type": "stream",
     "text": [
      "/home/mayee/miniconda3/envs/mayeeenv/lib/python3.13/site-packages/tqdm/auto.py:21: TqdmWarning: IProgress not found. Please update jupyter and ipywidgets. See https://ipywidgets.readthedocs.io/en/stable/user_install.html\n",
      "  from .autonotebook import tqdm as notebook_tqdm\n"
     ]
    }
   ],
   "source": [
    "import matplotlib.pyplot as plt \n",
    "import seaborn as sns\n",
    "import pandas as pd \n",
    "import numpy as np\n",
    "import os\n",
    "import json\n",
    "from collections import defaultdict\n",
    "\n",
    "from scipy.stats import spearmanr, pearsonr\n",
    "\n",
    "from regmixer.synthesize_mixture import calculate_priors\n",
    "from regmixer.utils import config_from_path\n",
    "from regmixer.eval.utils import (\n",
    "    build_regression,\n",
    "    get_output_dir,\n",
    "    get_runs_from_api,\n",
    "    mk_run_from_json,\n",
    "    mk_run_metrics,\n",
    "    mk_weights_from_config,\n",
    "    mk_output_prefix,\n",
    "    plot_correlation,\n",
    "    plot_weights,\n",
    "    simulate,\n",
    "    simulate2,\n",
    "    )\n",
    "\n",
    "\n",
    "import pathlib\n",
    "import wandb\n",
    "\n",
    "\n",
    "from regmixer.eval.constants import GroupedWandbMetrics\n",
    "\n",
    "\n",
    "from regmixer.eval.law import ScalingLaw"
   ]
  },
  {
   "cell_type": "markdown",
   "metadata": {},
   "source": [
    "# Load data"
   ]
  },
  {
   "cell_type": "code",
   "execution_count": 3,
   "metadata": {},
   "outputs": [
    {
     "name": "stderr",
     "output_type": "stream",
     "text": [
      "2025-04-01 14:54:55,580 - regmixer.synthesize_mixture - INFO - Source distribution cache found, using cached values! This can be disabled by setting use_cache=False.\n"
     ]
    }
   ],
   "source": [
    "config = \"src/regmixer/config/dclm-datadelve-5xC-30m-dolma2tok-subset.yaml\"\n",
    "launch_config = config_from_path(config)\n",
    "\n",
    "\n",
    "priors = calculate_priors(\n",
    "        source_configs=launch_config.sources,\n",
    "        dtype=launch_config.dtype,\n",
    "        use_cache=True,\n",
    "    )"
   ]
  },
  {
   "cell_type": "code",
   "execution_count": 50,
   "metadata": {},
   "outputs": [
    {
     "name": "stderr",
     "output_type": "stream",
     "text": [
      "2025-04-02 00:22:40,176 - regmixer.eval.utils - INFO - Collected RunInstance for dclm-datadelve-5xC-30m-subset-4318c7a9-0006:t8hg2qob with samples: (1, 1)\n",
      "2025-04-02 00:22:40,178 - regmixer.eval.utils - INFO - Collected RunInstance for dclm-datadelve-5xC-30m-subset-4318c7a9-0001:cmd16vf1 with samples: (1, 1)\n",
      "2025-04-02 00:22:40,179 - regmixer.eval.utils - INFO - Collected RunInstance for dclm-datadelve-5xC-30m-subset-4318c7a9-0007:v125yas0 with samples: (1, 1)\n",
      "2025-04-02 00:22:40,180 - regmixer.eval.utils - INFO - Collected RunInstance for dclm-datadelve-5xC-30m-subset-4318c7a9-0008:wwwved4h with samples: (1, 1)\n",
      "2025-04-02 00:22:40,181 - regmixer.eval.utils - INFO - Collected RunInstance for dclm-datadelve-5xC-30m-subset-4318c7a9-0004:6h3b05k4 with samples: (1, 1)\n",
      "2025-04-02 00:22:40,182 - regmixer.eval.utils - INFO - Collected RunInstance for dclm-datadelve-5xC-30m-subset-4318c7a9-0003:z1ub9adn with samples: (1, 1)\n",
      "2025-04-02 00:22:40,183 - regmixer.eval.utils - INFO - Collected RunInstance for dclm-datadelve-5xC-30m-subset-4318c7a9-0009:ud9yt2rj with samples: (1, 1)\n",
      "2025-04-02 00:22:40,184 - regmixer.eval.utils - INFO - Collected RunInstance for dclm-datadelve-5xC-30m-subset-4318c7a9-0000:xuvf54iy with samples: (1, 1)\n",
      "2025-04-02 00:22:40,185 - regmixer.eval.utils - INFO - Collected RunInstance for dclm-datadelve-5xC-30m-subset-4318c7a9-0005:5p42aq9g with samples: (1, 1)\n",
      "2025-04-02 00:22:40,186 - regmixer.eval.utils - INFO - Collected RunInstance for dclm-datadelve-5xC-30m-subset-4318c7a9-0002:sdomr7qp with samples: (1, 1)\n",
      "2025-04-02 00:22:40,186 - regmixer.eval.utils - INFO - Collected RunInstance for dclm-datadelve-5xC-30m-subset-4318c7a9-0018:fpcs5vm5 with samples: (1, 1)\n",
      "2025-04-02 00:22:40,187 - regmixer.eval.utils - INFO - Collected RunInstance for dclm-datadelve-5xC-30m-subset-4318c7a9-0011:853yotat with samples: (1, 1)\n",
      "2025-04-02 00:22:40,187 - regmixer.eval.utils - INFO - Collected RunInstance for dclm-datadelve-5xC-30m-subset-4318c7a9-0016:6mmliqup with samples: (1, 1)\n",
      "2025-04-02 00:22:40,188 - regmixer.eval.utils - INFO - Collected RunInstance for dclm-datadelve-5xC-30m-subset-4318c7a9-0017:ubs123z6 with samples: (1, 1)\n",
      "2025-04-02 00:22:40,188 - regmixer.eval.utils - INFO - Collected RunInstance for dclm-datadelve-5xC-30m-subset-4318c7a9-0012:6x36a8vb with samples: (1, 1)\n",
      "2025-04-02 00:22:40,189 - regmixer.eval.utils - INFO - Collected RunInstance for dclm-datadelve-5xC-30m-subset-4318c7a9-0015:y8v7xv89 with samples: (1, 1)\n",
      "2025-04-02 00:22:40,189 - regmixer.eval.utils - INFO - Collected RunInstance for dclm-datadelve-5xC-30m-subset-4318c7a9-0010:omiwguyv with samples: (1, 1)\n",
      "2025-04-02 00:22:40,190 - regmixer.eval.utils - INFO - Collected RunInstance for dclm-datadelve-5xC-30m-subset-4318c7a9-0024:qvpje2dp with samples: (1, 1)\n",
      "2025-04-02 00:22:40,190 - regmixer.eval.utils - INFO - Collected RunInstance for dclm-datadelve-5xC-30m-subset-4318c7a9-0019:iq0tmxyn with samples: (1, 1)\n",
      "2025-04-02 00:22:40,191 - regmixer.eval.utils - INFO - Collected RunInstance for dclm-datadelve-5xC-30m-subset-4318c7a9-0014:0cdlbgwx with samples: (1, 1)\n",
      "2025-04-02 00:22:40,192 - regmixer.eval.utils - INFO - Collected RunInstance for dclm-datadelve-5xC-30m-subset-4318c7a9-0020:v0bqcu22 with samples: (1, 1)\n",
      "2025-04-02 00:22:40,193 - regmixer.eval.utils - INFO - Collected RunInstance for dclm-datadelve-5xC-30m-subset-4318c7a9-0027:f0n5bn22 with samples: (1, 1)\n",
      "2025-04-02 00:22:40,195 - regmixer.eval.utils - INFO - Collected RunInstance for dclm-datadelve-5xC-30m-subset-4318c7a9-0025:z6sjvy9n with samples: (1, 1)\n",
      "2025-04-02 00:22:40,196 - regmixer.eval.utils - INFO - Collected RunInstance for dclm-datadelve-5xC-30m-subset-4318c7a9-0013:4mi0434d with samples: (1, 1)\n",
      "2025-04-02 00:22:40,221 - regmixer.eval.utils - INFO - Collected RunInstance for dclm-datadelve-5xC-30m-subset-4318c7a9-0022:2428s0gr with samples: (1, 1)\n",
      "2025-04-02 00:22:40,221 - regmixer.eval.utils - INFO - Collected RunInstance for dclm-datadelve-5xC-30m-subset-4318c7a9-0023:fkxevczj with samples: (1, 1)\n",
      "2025-04-02 00:22:40,222 - regmixer.eval.utils - INFO - Collected RunInstance for dclm-datadelve-5xC-30m-subset-4318c7a9-0029:23c1kmvq with samples: (1, 1)\n",
      "2025-04-02 00:22:40,223 - regmixer.eval.utils - INFO - Collected RunInstance for dclm-datadelve-5xC-30m-subset-4318c7a9-0026:y87tjj2j with samples: (1, 1)\n",
      "2025-04-02 00:22:40,224 - regmixer.eval.utils - INFO - Collected RunInstance for dclm-datadelve-5xC-30m-subset-4318c7a9-0021:a90yygec with samples: (1, 1)\n",
      "2025-04-02 00:22:40,224 - regmixer.eval.utils - INFO - Collected RunInstance for dclm-datadelve-5xC-30m-subset-4318c7a9-0028:3znphhl6 with samples: (1, 1)\n",
      "2025-04-02 00:22:40,225 - regmixer.eval.utils - INFO - Collected RunInstance for dclm-datadelve-5xC-30m-subset-4318c7a9-0036:upjvabeb with samples: (1, 1)\n",
      "2025-04-02 00:22:40,226 - regmixer.eval.utils - INFO - Collected RunInstance for dclm-datadelve-5xC-30m-subset-4318c7a9-0030:4teh3n7o with samples: (1, 1)\n",
      "2025-04-02 00:22:40,226 - regmixer.eval.utils - INFO - Collected RunInstance for dclm-datadelve-5xC-30m-subset-4318c7a9-0031:iehrzm2l with samples: (1, 1)\n",
      "2025-04-02 00:22:40,227 - regmixer.eval.utils - INFO - Collected RunInstance for dclm-datadelve-5xC-30m-subset-4318c7a9-0032:35euddtj with samples: (1, 1)\n",
      "2025-04-02 00:22:40,227 - regmixer.eval.utils - INFO - Collected RunInstance for dclm-datadelve-5xC-30m-subset-4318c7a9-0033:onuspxuz with samples: (1, 1)\n",
      "2025-04-02 00:22:40,228 - regmixer.eval.utils - INFO - Collected RunInstance for dclm-datadelve-5xC-30m-subset-4318c7a9-0037:o285c96q with samples: (1, 1)\n",
      "2025-04-02 00:22:40,228 - regmixer.eval.utils - INFO - Collected RunInstance for dclm-datadelve-5xC-30m-subset-4318c7a9-0038:g5rpppav with samples: (1, 1)\n",
      "2025-04-02 00:22:40,229 - regmixer.eval.utils - INFO - Collected RunInstance for dclm-datadelve-5xC-30m-subset-4318c7a9-0034:o3l2urk1 with samples: (1, 1)\n",
      "2025-04-02 00:22:40,229 - regmixer.eval.utils - INFO - Collected RunInstance for dclm-datadelve-5xC-30m-subset-4318c7a9-0035:n6vtb057 with samples: (1, 1)\n",
      "2025-04-02 00:22:40,230 - regmixer.eval.utils - INFO - Collected RunInstance for dclm-datadelve-5xC-30m-subset-4318c7a9-0043:kke0hmy7 with samples: (1, 1)\n",
      "2025-04-02 00:22:40,230 - regmixer.eval.utils - INFO - Collected RunInstance for dclm-datadelve-5xC-30m-subset-4318c7a9-0041:6fubs0jh with samples: (1, 1)\n",
      "2025-04-02 00:22:40,231 - regmixer.eval.utils - INFO - Collected RunInstance for dclm-datadelve-5xC-30m-subset-4318c7a9-0040:yten0ur6 with samples: (1, 1)\n",
      "2025-04-02 00:22:40,232 - regmixer.eval.utils - INFO - Collected RunInstance for dclm-datadelve-5xC-30m-subset-4318c7a9-0039:38od3jud with samples: (1, 1)\n",
      "2025-04-02 00:22:40,232 - regmixer.eval.utils - INFO - Collected RunInstance for dclm-datadelve-5xC-30m-subset-4318c7a9-0042:xnmslr1z with samples: (1, 1)\n",
      "2025-04-02 00:22:40,233 - regmixer.eval.utils - INFO - Collected RunInstance for dclm-datadelve-5xC-30m-subset-4318c7a9-0044:h0e86pcq with samples: (1, 1)\n",
      "2025-04-02 00:22:40,234 - regmixer.eval.utils - INFO - Collected RunInstance for dclm-datadelve-5xC-30m-subset-4318c7a9-0046:r3zip290 with samples: (1, 1)\n",
      "2025-04-02 00:22:40,235 - regmixer.eval.utils - INFO - Collected RunInstance for dclm-datadelve-5xC-30m-subset-4318c7a9-0049:smmfx0pr with samples: (1, 1)\n",
      "2025-04-02 00:22:40,236 - regmixer.eval.utils - INFO - Collected RunInstance for dclm-datadelve-5xC-30m-subset-4318c7a9-0047:zn4dzoa6 with samples: (1, 1)\n",
      "2025-04-02 00:22:40,237 - regmixer.eval.utils - INFO - Collected RunInstance for dclm-datadelve-5xC-30m-subset-4318c7a9-0050:5749achq with samples: (1, 1)\n",
      "2025-04-02 00:22:40,237 - regmixer.eval.utils - INFO - Collected RunInstance for dclm-datadelve-5xC-30m-subset-4318c7a9-0048:1jry6qsd with samples: (1, 1)\n",
      "2025-04-02 00:22:40,238 - regmixer.eval.utils - INFO - Collected RunInstance for dclm-datadelve-5xC-30m-subset-4318c7a9-0045:fko3gzzu with samples: (1, 1)\n",
      "2025-04-02 00:22:40,239 - regmixer.eval.utils - INFO - Collected RunInstance for dclm-datadelve-5xC-30m-subset-4318c7a9-0051:em9ykk4u with samples: (1, 1)\n",
      "2025-04-02 00:22:40,240 - regmixer.eval.utils - INFO - Collected RunInstance for dclm-datadelve-5xC-30m-subset-4318c7a9-0052:2j5lu58z with samples: (1, 1)\n",
      "2025-04-02 00:22:40,240 - regmixer.eval.utils - INFO - Collected RunInstance for dclm-datadelve-5xC-30m-subset-4318c7a9-0057:0o8moswh with samples: (1, 1)\n",
      "2025-04-02 00:22:40,241 - regmixer.eval.utils - INFO - Collected RunInstance for dclm-datadelve-5xC-30m-subset-4318c7a9-0054:4u2iiozu with samples: (1, 1)\n",
      "2025-04-02 00:22:40,242 - regmixer.eval.utils - INFO - Collected RunInstance for dclm-datadelve-5xC-30m-subset-4318c7a9-0053:ev30due7 with samples: (1, 1)\n",
      "2025-04-02 00:22:40,242 - regmixer.eval.utils - INFO - Collected RunInstance for dclm-datadelve-5xC-30m-subset-4318c7a9-0056:81a2fghx with samples: (1, 1)\n",
      "2025-04-02 00:22:40,243 - regmixer.eval.utils - INFO - Collected RunInstance for dclm-datadelve-5xC-30m-subset-4318c7a9-0055:yh5qnpk9 with samples: (1, 1)\n",
      "2025-04-02 00:22:40,243 - regmixer.eval.utils - INFO - Collected RunInstance for dclm-datadelve-5xC-30m-subset-4318c7a9-0058:dfzmpmzo with samples: (1, 1)\n",
      "2025-04-02 00:22:40,244 - regmixer.eval.utils - INFO - Collected RunInstance for dclm-datadelve-5xC-30m-subset-4318c7a9-0060:1bikzokf with samples: (1, 1)\n",
      "2025-04-02 00:22:40,244 - regmixer.eval.utils - INFO - Collected RunInstance for dclm-datadelve-5xC-30m-subset-4318c7a9-0059:6ybio1xv with samples: (1, 1)\n",
      "2025-04-02 00:22:40,245 - regmixer.eval.utils - INFO - Collected RunInstance for dclm-datadelve-5xC-30m-subset-4318c7a9-0061:qdp3chvy with samples: (1, 1)\n",
      "2025-04-02 00:22:40,245 - regmixer.eval.utils - INFO - Collected RunInstance for dclm-datadelve-5xC-30m-subset-4318c7a9-0062:cfvuc7xt with samples: (1, 1)\n",
      "2025-04-02 00:22:40,246 - regmixer.eval.utils - INFO - Collected RunInstance for dclm-datadelve-5xC-30m-subset-4318c7a9-0063:viw0bz55 with samples: (1, 1)\n"
     ]
    },
    {
     "name": "stdout",
     "output_type": "stream",
     "text": [
      "finished\n",
      "finished\n",
      "finished\n",
      "finished\n",
      "finished\n",
      "finished\n",
      "finished\n",
      "finished\n",
      "finished\n",
      "finished\n",
      "finished\n",
      "finished\n",
      "finished\n",
      "finished\n",
      "finished\n",
      "finished\n",
      "finished\n",
      "finished\n",
      "finished\n",
      "finished\n",
      "finished\n",
      "finished\n",
      "finished\n",
      "finished\n",
      "finished\n",
      "finished\n",
      "finished\n",
      "finished\n",
      "finished\n",
      "finished\n",
      "finished\n",
      "finished\n",
      "finished\n",
      "finished\n",
      "finished\n",
      "finished\n",
      "finished\n",
      "finished\n",
      "finished\n",
      "finished\n",
      "finished\n",
      "finished\n",
      "finished\n",
      "finished\n",
      "finished\n",
      "finished\n",
      "finished\n",
      "finished\n",
      "finished\n",
      "finished\n",
      "finished\n",
      "finished\n",
      "finished\n",
      "finished\n",
      "finished\n",
      "finished\n",
      "finished\n",
      "finished\n",
      "finished\n",
      "finished\n",
      "finished\n",
      "finished\n",
      "finished\n",
      "finished\n"
     ]
    }
   ],
   "source": [
    "BASE_CACHE_DIR = \"cache/\"\n",
    "\n",
    "experiment_groups = [\"4318c7a9\"]\n",
    "\n",
    "\n",
    "cache_path = pathlib.Path(BASE_CACHE_DIR) / f\"{'_'.join(experiment_groups)}_runs_cache.json\"\n",
    "api = wandb.Api() \n",
    "\n",
    "workspace = \"ai2-llm/regmixer\"\n",
    "\n",
    "num_samples=1\n",
    "\n",
    "group_metrics= 'arc_easy_new' #'mmlu_bpb_new' #'val_loss' #'mmlu_bpb_new'\n",
    "eval_metric_group = GroupedWandbMetrics[group_metrics]\n",
    "eval_metric_group_name = group_metrics\n",
    "\n",
    "run_instances = get_runs_from_api(\n",
    "        api, workspace, experiment_groups, cache_path, False, num_samples, eval_metric_group\n",
    "    )\n",
    "    \n",
    "run_ratios = [\n",
    "        {\"run\": run.id, \"index\": idx, **mk_weights_from_config(run.config, priors)}\n",
    "        for idx, run in enumerate(run_instances)\n",
    "    ]"
   ]
  },
  {
   "cell_type": "code",
   "execution_count": 51,
   "metadata": {},
   "outputs": [],
   "source": [
    "run_metrics = []\n",
    "for idx, run in enumerate(run_instances):\n",
    "    if len(run.samples) == 0:\n",
    "        continue \n",
    "    entry =    {\n",
    "        \"run\": run.id,\n",
    "        \"index\": idx,\n",
    "        **mk_run_metrics(\n",
    "            history=run.samples,\n",
    "            samples=num_samples,\n",
    "            metrics=(eval_metric_group_name, eval_metric_group.value),\n",
    "            average=False,\n",
    "        ),\n",
    "    }\n",
    "    run_metrics.append(entry)\n"
   ]
  },
  {
   "cell_type": "code",
   "execution_count": 52,
   "metadata": {},
   "outputs": [],
   "source": [
    "ratios = pd.DataFrame(run_ratios)\n",
    "metrics = pd.DataFrame(run_metrics)\n",
    "ratios = ratios[ratios['run'].isin(metrics.run)]"
   ]
  },
  {
   "cell_type": "code",
   "execution_count": 53,
   "metadata": {},
   "outputs": [],
   "source": [
    "X = ratios[ratios.columns[2:]].values\n",
    "Y = metrics[metrics.columns[2:]].values"
   ]
  },
  {
   "cell_type": "code",
   "execution_count": 56,
   "metadata": {},
   "outputs": [
    {
     "data": {
      "text/plain": [
       "run              z1ub9adn\n",
       "index                   3\n",
       "politics              0.3\n",
       "entertainment        0.25\n",
       "health               0.45\n",
       "Name: 3, dtype: object"
      ]
     },
     "execution_count": 56,
     "metadata": {},
     "output_type": "execute_result"
    }
   ],
   "source": [
    "ratios.iloc[3]"
   ]
  },
  {
   "cell_type": "code",
   "execution_count": 54,
   "metadata": {},
   "outputs": [
    {
     "data": {
      "text/plain": [
       "3"
      ]
     },
     "execution_count": 54,
     "metadata": {},
     "output_type": "execute_result"
    }
   ],
   "source": [
    "Y.argmin()"
   ]
  },
  {
   "cell_type": "markdown",
   "metadata": {},
   "source": [
    "# Inspect swarm mixtures"
   ]
  },
  {
   "cell_type": "code",
   "execution_count": 30,
   "metadata": {},
   "outputs": [
    {
     "data": {
      "text/plain": [
       "(119, 24)"
      ]
     },
     "execution_count": 30,
     "metadata": {},
     "output_type": "execute_result"
    }
   ],
   "source": [
    "X.shape"
   ]
  },
  {
   "cell_type": "code",
   "execution_count": 32,
   "metadata": {},
   "outputs": [],
   "source": [
    "n_domains = X.shape[-1]"
   ]
  },
  {
   "cell_type": "code",
   "execution_count": 34,
   "metadata": {},
   "outputs": [
    {
     "name": "stdout",
     "output_type": "stream",
     "text": [
      "0.13935574229691872 0.041666666666666664 0.3333333333333333\n",
      "3.3445378151260505 1.0 8.0\n"
     ]
    }
   ],
   "source": [
    "from collections import defaultdict\n",
    "density = []\n",
    "\n",
    "support_count = defaultdict(int)\n",
    "\n",
    "for row in X:\n",
    "    density.append(len(np.where(row != 0)[0]) / len(row))\n",
    "\n",
    "    support_count[tuple(np.where(row != 0)[0])] += 1\n",
    "\n",
    "density = np.array(density)\n",
    "print(density.mean(), density.min(), density.max())\n",
    "\n",
    "\n",
    "support_size = density * n_domains \n",
    "print(support_size.mean(), support_size.min(), support_size.max())"
   ]
  },
  {
   "cell_type": "code",
   "execution_count": 31,
   "metadata": {},
   "outputs": [
    {
     "data": {
      "text/plain": [
       "defaultdict(int,\n",
       "            {(19, 23): 2,\n",
       "             (4, 5, 13, 14): 1,\n",
       "             (13, 14): 1,\n",
       "             (21,): 1,\n",
       "             (0, 9, 18, 19, 22): 1,\n",
       "             (16, 23): 2,\n",
       "             (0, 5, 14, 18): 1,\n",
       "             (8, 23): 1,\n",
       "             (1, 3, 14): 1,\n",
       "             (1, 5, 20): 1,\n",
       "             (2, 5, 7, 8, 10, 12, 20): 1,\n",
       "             (2, 10, 13): 1,\n",
       "             (1, 5, 6, 13, 21): 1,\n",
       "             (0, 22): 1,\n",
       "             (1, 5, 6, 8, 9): 1,\n",
       "             (2, 8): 1,\n",
       "             (5, 23): 2,\n",
       "             (0, 6, 9): 1,\n",
       "             (10, 23): 1,\n",
       "             (19, 22): 1,\n",
       "             (4, 5, 23): 1,\n",
       "             (2, 14): 1,\n",
       "             (0, 1, 2, 8, 21, 23): 1,\n",
       "             (5, 10, 15, 21, 23): 1,\n",
       "             (10, 21): 1,\n",
       "             (9, 23): 1,\n",
       "             (5, 9, 12): 1,\n",
       "             (0, 2, 23): 1,\n",
       "             (18, 22): 1,\n",
       "             (6, 8, 10, 21, 23): 1,\n",
       "             (2, 8, 11): 1,\n",
       "             (0, 6, 7, 9): 1,\n",
       "             (0, 2, 14): 1,\n",
       "             (0, 19): 1,\n",
       "             (0, 7, 10, 14): 1,\n",
       "             (13,): 1,\n",
       "             (0, 11): 1,\n",
       "             (2, 5): 1,\n",
       "             (9, 13, 14): 1,\n",
       "             (9, 14, 23): 1,\n",
       "             (0, 3, 8, 9, 10, 15): 1,\n",
       "             (2, 5, 12, 14, 21, 23): 1,\n",
       "             (1, 21): 1,\n",
       "             (0, 11, 20): 1,\n",
       "             (1, 5, 10, 15): 1,\n",
       "             (1, 7): 1,\n",
       "             (3, 18, 19): 1,\n",
       "             (0, 1, 14): 1,\n",
       "             (1, 5, 6, 7, 19): 1,\n",
       "             (14, 23): 1,\n",
       "             (0, 2, 5, 11, 22): 1,\n",
       "             (0, 8, 10, 12, 14, 19, 20): 1,\n",
       "             (8, 20): 1,\n",
       "             (5, 21, 23): 1,\n",
       "             (0, 5, 7, 10, 17, 20, 21, 22): 1,\n",
       "             (13, 19): 1,\n",
       "             (2, 5, 8, 13, 15, 23): 1,\n",
       "             (1, 5, 13): 2,\n",
       "             (1, 8, 12): 1,\n",
       "             (10, 12, 20, 23): 1,\n",
       "             (5, 20, 21): 1,\n",
       "             (1, 4, 10, 11): 1,\n",
       "             (2, 5, 11, 17): 1,\n",
       "             (1, 4, 9, 11): 1,\n",
       "             (1, 6): 1,\n",
       "             (5, 6, 13, 21): 1,\n",
       "             (20, 23): 1,\n",
       "             (5, 7, 22): 1,\n",
       "             (16, 17): 1,\n",
       "             (5, 13, 23): 1,\n",
       "             (2, 9, 14, 21): 1,\n",
       "             (1, 10, 23): 1,\n",
       "             (1, 4): 1,\n",
       "             (0, 1): 1,\n",
       "             (5, 17): 2,\n",
       "             (0, 16, 20, 23): 1,\n",
       "             (0, 1, 6, 23): 1,\n",
       "             (0, 7, 9): 1,\n",
       "             (7, 11, 17): 1,\n",
       "             (0, 2, 10): 1,\n",
       "             (0, 6, 7, 8, 9, 10): 1,\n",
       "             (3, 7, 17): 1,\n",
       "             (0, 5, 7, 13): 1,\n",
       "             (0, 5, 16, 17, 20, 23): 1,\n",
       "             (0, 12, 14): 1,\n",
       "             (2, 17): 1,\n",
       "             (2, 6, 12): 1,\n",
       "             (8, 13): 1,\n",
       "             (0, 1, 2, 14, 23): 1,\n",
       "             (0, 7, 10, 13, 18, 21): 1,\n",
       "             (0, 5, 7, 11, 13, 16): 1,\n",
       "             (22, 23): 1,\n",
       "             (5, 13, 14, 16, 23): 1,\n",
       "             (1, 6, 7, 10, 20, 23): 1,\n",
       "             (0, 1, 9, 19): 1,\n",
       "             (12, 13, 23): 1,\n",
       "             (5, 9, 13, 21, 23): 1,\n",
       "             (5, 20): 1,\n",
       "             (0, 16): 1,\n",
       "             (6, 20): 1,\n",
       "             (0,): 1,\n",
       "             (0, 10, 12, 15, 17, 20): 1,\n",
       "             (8, 22): 1,\n",
       "             (13, 20): 1,\n",
       "             (13, 21): 1,\n",
       "             (5, 12, 20, 23): 1,\n",
       "             (12, 22): 1,\n",
       "             (0, 2, 4, 5, 14, 19, 22, 23): 1,\n",
       "             (5, 14, 16, 17): 1,\n",
       "             (0, 2, 5, 18): 1,\n",
       "             (20,): 1,\n",
       "             (0, 1, 2, 6, 9, 10, 11, 23): 1,\n",
       "             (1, 9): 1,\n",
       "             (2, 14, 19): 1})"
      ]
     },
     "execution_count": 31,
     "metadata": {},
     "output_type": "execute_result"
    }
   ],
   "source": [
    "support_count"
   ]
  },
  {
   "cell_type": "code",
   "execution_count": 67,
   "metadata": {},
   "outputs": [
    {
     "name": "stdout",
     "output_type": "stream",
     "text": [
      "0 (12, 22) [0.35 0.65]\n",
      "5 (2, 22) [0.85 0.15]\n",
      "16 (18, 22) [0.5 0.5]\n",
      "23 (18, 22) [0.2 0.8]\n",
      "33 (2, 22) [0.3 0.7]\n",
      "69 (12, 22) [0.25 0.75]\n"
     ]
    }
   ],
   "source": [
    "for i, row in enumerate(X):\n",
    "    support = tuple(np.where(row != 0)[0])\n",
    "    if support_count[support] > 1:\n",
    "        print(i, support, row[list(support)])\n"
   ]
  },
  {
   "cell_type": "code",
   "execution_count": 48,
   "metadata": {},
   "outputs": [
    {
     "data": {
      "text/plain": [
       "Index(['home_and_hobbies', 'health'], dtype='object')"
      ]
     },
     "execution_count": 48,
     "metadata": {},
     "output_type": "execute_result"
    }
   ],
   "source": [
    "ratios.columns[2:][[12, 22]]"
   ]
  },
  {
   "cell_type": "code",
   "execution_count": 42,
   "metadata": {},
   "outputs": [
    {
     "data": {
      "text/html": [
       "<div>\n",
       "<style scoped>\n",
       "    .dataframe tbody tr th:only-of-type {\n",
       "        vertical-align: middle;\n",
       "    }\n",
       "\n",
       "    .dataframe tbody tr th {\n",
       "        vertical-align: top;\n",
       "    }\n",
       "\n",
       "    .dataframe thead th {\n",
       "        text-align: right;\n",
       "    }\n",
       "</style>\n",
       "<table border=\"1\" class=\"dataframe\">\n",
       "  <thead>\n",
       "    <tr style=\"text-align: right;\">\n",
       "      <th></th>\n",
       "      <th>run</th>\n",
       "      <th>index</th>\n",
       "      <th>education_and_jobs</th>\n",
       "      <th>literature</th>\n",
       "      <th>transportation</th>\n",
       "      <th>software_development</th>\n",
       "      <th>industrial</th>\n",
       "      <th>software</th>\n",
       "      <th>social_life</th>\n",
       "      <th>religion</th>\n",
       "      <th>...</th>\n",
       "      <th>crime_and_law</th>\n",
       "      <th>finance_and_business</th>\n",
       "      <th>food_and_dining</th>\n",
       "      <th>fashion_and_beauty</th>\n",
       "      <th>entertainment</th>\n",
       "      <th>science_math_and_technology</th>\n",
       "      <th>sports_and_fitness</th>\n",
       "      <th>games</th>\n",
       "      <th>health</th>\n",
       "      <th>history_and_geography</th>\n",
       "    </tr>\n",
       "  </thead>\n",
       "  <tbody>\n",
       "    <tr>\n",
       "      <th>16</th>\n",
       "      <td>1cy0qtmy</td>\n",
       "      <td>16</td>\n",
       "      <td>0.0</td>\n",
       "      <td>0.0</td>\n",
       "      <td>0.0</td>\n",
       "      <td>0.0</td>\n",
       "      <td>0.0</td>\n",
       "      <td>0.0</td>\n",
       "      <td>0.0</td>\n",
       "      <td>0.0</td>\n",
       "      <td>...</td>\n",
       "      <td>0.0</td>\n",
       "      <td>0.0</td>\n",
       "      <td>0.0</td>\n",
       "      <td>0.0</td>\n",
       "      <td>0.5</td>\n",
       "      <td>0.0</td>\n",
       "      <td>0.0</td>\n",
       "      <td>0.0</td>\n",
       "      <td>0.5</td>\n",
       "      <td>0.0</td>\n",
       "    </tr>\n",
       "    <tr>\n",
       "      <th>23</th>\n",
       "      <td>swuv373r</td>\n",
       "      <td>23</td>\n",
       "      <td>0.0</td>\n",
       "      <td>0.0</td>\n",
       "      <td>0.0</td>\n",
       "      <td>0.0</td>\n",
       "      <td>0.0</td>\n",
       "      <td>0.0</td>\n",
       "      <td>0.0</td>\n",
       "      <td>0.0</td>\n",
       "      <td>...</td>\n",
       "      <td>0.0</td>\n",
       "      <td>0.0</td>\n",
       "      <td>0.0</td>\n",
       "      <td>0.0</td>\n",
       "      <td>0.2</td>\n",
       "      <td>0.0</td>\n",
       "      <td>0.0</td>\n",
       "      <td>0.0</td>\n",
       "      <td>0.8</td>\n",
       "      <td>0.0</td>\n",
       "    </tr>\n",
       "  </tbody>\n",
       "</table>\n",
       "<p>2 rows × 26 columns</p>\n",
       "</div>"
      ],
      "text/plain": [
       "         run  index  education_and_jobs  literature  transportation  \\\n",
       "16  1cy0qtmy     16                 0.0         0.0             0.0   \n",
       "23  swuv373r     23                 0.0         0.0             0.0   \n",
       "\n",
       "    software_development  industrial  software  social_life  religion  ...  \\\n",
       "16                   0.0         0.0       0.0          0.0       0.0  ...   \n",
       "23                   0.0         0.0       0.0          0.0       0.0  ...   \n",
       "\n",
       "    crime_and_law  finance_and_business  food_and_dining  fashion_and_beauty  \\\n",
       "16            0.0                   0.0              0.0                 0.0   \n",
       "23            0.0                   0.0              0.0                 0.0   \n",
       "\n",
       "    entertainment  science_math_and_technology  sports_and_fitness  games  \\\n",
       "16            0.5                          0.0                 0.0    0.0   \n",
       "23            0.2                          0.0                 0.0    0.0   \n",
       "\n",
       "    health  history_and_geography  \n",
       "16     0.5                    0.0  \n",
       "23     0.8                    0.0  \n",
       "\n",
       "[2 rows x 26 columns]"
      ]
     },
     "execution_count": 42,
     "metadata": {},
     "output_type": "execute_result"
    }
   ],
   "source": [
    "ratios.iloc[[16, 23]]"
   ]
  },
  {
   "cell_type": "code",
   "execution_count": 37,
   "metadata": {},
   "outputs": [
    {
     "data": {
      "text/html": [
       "<div>\n",
       "<style scoped>\n",
       "    .dataframe tbody tr th:only-of-type {\n",
       "        vertical-align: middle;\n",
       "    }\n",
       "\n",
       "    .dataframe tbody tr th {\n",
       "        vertical-align: top;\n",
       "    }\n",
       "\n",
       "    .dataframe thead th {\n",
       "        text-align: right;\n",
       "    }\n",
       "</style>\n",
       "<table border=\"1\" class=\"dataframe\">\n",
       "  <thead>\n",
       "    <tr style=\"text-align: right;\">\n",
       "      <th></th>\n",
       "      <th>run</th>\n",
       "      <th>index</th>\n",
       "      <th>education_and_jobs</th>\n",
       "      <th>literature</th>\n",
       "      <th>transportation</th>\n",
       "      <th>software_development</th>\n",
       "      <th>industrial</th>\n",
       "      <th>software</th>\n",
       "      <th>social_life</th>\n",
       "      <th>religion</th>\n",
       "      <th>...</th>\n",
       "      <th>crime_and_law</th>\n",
       "      <th>finance_and_business</th>\n",
       "      <th>food_and_dining</th>\n",
       "      <th>fashion_and_beauty</th>\n",
       "      <th>entertainment</th>\n",
       "      <th>science_math_and_technology</th>\n",
       "      <th>sports_and_fitness</th>\n",
       "      <th>games</th>\n",
       "      <th>health</th>\n",
       "      <th>history_and_geography</th>\n",
       "    </tr>\n",
       "  </thead>\n",
       "  <tbody>\n",
       "    <tr>\n",
       "      <th>5</th>\n",
       "      <td>iyr8a9nn</td>\n",
       "      <td>5</td>\n",
       "      <td>0.0</td>\n",
       "      <td>0.0</td>\n",
       "      <td>0.85</td>\n",
       "      <td>0.0</td>\n",
       "      <td>0.0</td>\n",
       "      <td>0.0</td>\n",
       "      <td>0.0</td>\n",
       "      <td>0.0</td>\n",
       "      <td>...</td>\n",
       "      <td>0.0</td>\n",
       "      <td>0.0</td>\n",
       "      <td>0.0</td>\n",
       "      <td>0.0</td>\n",
       "      <td>0.0</td>\n",
       "      <td>0.0</td>\n",
       "      <td>0.0</td>\n",
       "      <td>0.0</td>\n",
       "      <td>0.15</td>\n",
       "      <td>0.0</td>\n",
       "    </tr>\n",
       "    <tr>\n",
       "      <th>33</th>\n",
       "      <td>gkfm7f2n</td>\n",
       "      <td>33</td>\n",
       "      <td>0.0</td>\n",
       "      <td>0.0</td>\n",
       "      <td>0.30</td>\n",
       "      <td>0.0</td>\n",
       "      <td>0.0</td>\n",
       "      <td>0.0</td>\n",
       "      <td>0.0</td>\n",
       "      <td>0.0</td>\n",
       "      <td>...</td>\n",
       "      <td>0.0</td>\n",
       "      <td>0.0</td>\n",
       "      <td>0.0</td>\n",
       "      <td>0.0</td>\n",
       "      <td>0.0</td>\n",
       "      <td>0.0</td>\n",
       "      <td>0.0</td>\n",
       "      <td>0.0</td>\n",
       "      <td>0.70</td>\n",
       "      <td>0.0</td>\n",
       "    </tr>\n",
       "  </tbody>\n",
       "</table>\n",
       "<p>2 rows × 26 columns</p>\n",
       "</div>"
      ],
      "text/plain": [
       "         run  index  education_and_jobs  literature  transportation  \\\n",
       "5   iyr8a9nn      5                 0.0         0.0            0.85   \n",
       "33  gkfm7f2n     33                 0.0         0.0            0.30   \n",
       "\n",
       "    software_development  industrial  software  social_life  religion  ...  \\\n",
       "5                    0.0         0.0       0.0          0.0       0.0  ...   \n",
       "33                   0.0         0.0       0.0          0.0       0.0  ...   \n",
       "\n",
       "    crime_and_law  finance_and_business  food_and_dining  fashion_and_beauty  \\\n",
       "5             0.0                   0.0              0.0                 0.0   \n",
       "33            0.0                   0.0              0.0                 0.0   \n",
       "\n",
       "    entertainment  science_math_and_technology  sports_and_fitness  games  \\\n",
       "5             0.0                          0.0                 0.0    0.0   \n",
       "33            0.0                          0.0                 0.0    0.0   \n",
       "\n",
       "    health  history_and_geography  \n",
       "5     0.15                    0.0  \n",
       "33    0.70                    0.0  \n",
       "\n",
       "[2 rows x 26 columns]"
      ]
     },
     "execution_count": 37,
     "metadata": {},
     "output_type": "execute_result"
    }
   ],
   "source": [
    "ratios.iloc[[5, 33]]"
   ]
  },
  {
   "cell_type": "code",
   "execution_count": 46,
   "metadata": {},
   "outputs": [
    {
     "data": {
      "text/html": [
       "<div>\n",
       "<style scoped>\n",
       "    .dataframe tbody tr th:only-of-type {\n",
       "        vertical-align: middle;\n",
       "    }\n",
       "\n",
       "    .dataframe tbody tr th {\n",
       "        vertical-align: top;\n",
       "    }\n",
       "\n",
       "    .dataframe thead th {\n",
       "        text-align: right;\n",
       "    }\n",
       "</style>\n",
       "<table border=\"1\" class=\"dataframe\">\n",
       "  <thead>\n",
       "    <tr style=\"text-align: right;\">\n",
       "      <th></th>\n",
       "      <th>run</th>\n",
       "      <th>index</th>\n",
       "      <th>education_and_jobs</th>\n",
       "      <th>literature</th>\n",
       "      <th>transportation</th>\n",
       "      <th>software_development</th>\n",
       "      <th>industrial</th>\n",
       "      <th>software</th>\n",
       "      <th>social_life</th>\n",
       "      <th>religion</th>\n",
       "      <th>...</th>\n",
       "      <th>crime_and_law</th>\n",
       "      <th>finance_and_business</th>\n",
       "      <th>food_and_dining</th>\n",
       "      <th>fashion_and_beauty</th>\n",
       "      <th>entertainment</th>\n",
       "      <th>science_math_and_technology</th>\n",
       "      <th>sports_and_fitness</th>\n",
       "      <th>games</th>\n",
       "      <th>health</th>\n",
       "      <th>history_and_geography</th>\n",
       "    </tr>\n",
       "  </thead>\n",
       "  <tbody>\n",
       "    <tr>\n",
       "      <th>0</th>\n",
       "      <td>evt5quxd</td>\n",
       "      <td>0</td>\n",
       "      <td>0.0</td>\n",
       "      <td>0.0</td>\n",
       "      <td>0.0</td>\n",
       "      <td>0.0</td>\n",
       "      <td>0.0</td>\n",
       "      <td>0.0</td>\n",
       "      <td>0.0</td>\n",
       "      <td>0.0</td>\n",
       "      <td>...</td>\n",
       "      <td>0.0</td>\n",
       "      <td>0.0</td>\n",
       "      <td>0.0</td>\n",
       "      <td>0.0</td>\n",
       "      <td>0.0</td>\n",
       "      <td>0.0</td>\n",
       "      <td>0.0</td>\n",
       "      <td>0.0</td>\n",
       "      <td>0.65</td>\n",
       "      <td>0.0</td>\n",
       "    </tr>\n",
       "    <tr>\n",
       "      <th>73</th>\n",
       "      <td>7lxtrlhb</td>\n",
       "      <td>73</td>\n",
       "      <td>0.0</td>\n",
       "      <td>0.0</td>\n",
       "      <td>0.0</td>\n",
       "      <td>0.0</td>\n",
       "      <td>0.0</td>\n",
       "      <td>0.0</td>\n",
       "      <td>0.0</td>\n",
       "      <td>0.0</td>\n",
       "      <td>...</td>\n",
       "      <td>0.0</td>\n",
       "      <td>0.0</td>\n",
       "      <td>0.0</td>\n",
       "      <td>0.0</td>\n",
       "      <td>0.0</td>\n",
       "      <td>0.0</td>\n",
       "      <td>0.0</td>\n",
       "      <td>0.0</td>\n",
       "      <td>0.75</td>\n",
       "      <td>0.0</td>\n",
       "    </tr>\n",
       "  </tbody>\n",
       "</table>\n",
       "<p>2 rows × 26 columns</p>\n",
       "</div>"
      ],
      "text/plain": [
       "         run  index  education_and_jobs  literature  transportation  \\\n",
       "0   evt5quxd      0                 0.0         0.0             0.0   \n",
       "73  7lxtrlhb     73                 0.0         0.0             0.0   \n",
       "\n",
       "    software_development  industrial  software  social_life  religion  ...  \\\n",
       "0                    0.0         0.0       0.0          0.0       0.0  ...   \n",
       "73                   0.0         0.0       0.0          0.0       0.0  ...   \n",
       "\n",
       "    crime_and_law  finance_and_business  food_and_dining  fashion_and_beauty  \\\n",
       "0             0.0                   0.0              0.0                 0.0   \n",
       "73            0.0                   0.0              0.0                 0.0   \n",
       "\n",
       "    entertainment  science_math_and_technology  sports_and_fitness  games  \\\n",
       "0             0.0                          0.0                 0.0    0.0   \n",
       "73            0.0                          0.0                 0.0    0.0   \n",
       "\n",
       "    health  history_and_geography  \n",
       "0     0.65                    0.0  \n",
       "73    0.75                    0.0  \n",
       "\n",
       "[2 rows x 26 columns]"
      ]
     },
     "execution_count": 46,
     "metadata": {},
     "output_type": "execute_result"
    }
   ],
   "source": [
    "ratios.iloc[[0, 73]]"
   ]
  },
  {
   "cell_type": "markdown",
   "metadata": {},
   "source": [
    "# Fit things"
   ]
  },
  {
   "cell_type": "markdown",
   "metadata": {},
   "source": [
    "Warning: this fitting law doesn't use $k_i$, because we effectively do the same when we have one weight per $p_i$, including the last $p_k = 1 - all others$"
   ]
  },
  {
   "cell_type": "code",
   "execution_count": 18,
   "metadata": {},
   "outputs": [],
   "source": [
    "indices = np.where(np.any(X == 0, axis=1))[0]\n"
   ]
  },
  {
   "cell_type": "code",
   "execution_count": 24,
   "metadata": {},
   "outputs": [],
   "source": [
    "indices = np.where(~np.any(X == 0, axis=1))[0]\n",
    "X = X[indices]\n",
    "Y = Y[indices]"
   ]
  },
  {
   "cell_type": "code",
   "execution_count": 45,
   "metadata": {},
   "outputs": [],
   "source": [
    "import torch\n",
    "from regmixer.eval.law import ScalingLaw\n",
    "\n",
    "def mixing_law(x, param):\n",
    "    log_c_i = param[0]\n",
    "    t_i = param[1:]\n",
    "    result = torch.exp(log_c_i) + torch.exp(torch.matmul(x, t_i))\n",
    "    return result\n",
    "\n",
    "def init_params_law(idx, num_domains=3):\n",
    "    for log_c_i in np.linspace(-2, 1.5, 10):\n",
    "        for _ in range(30):\n",
    "            ts = [-np.random.rand() if i == idx else np.random.rand() * 0.1 for i in range(num_domains)]\n",
    "            yield [log_c_i] + ts\n"
   ]
  },
  {
   "cell_type": "code",
   "execution_count": 46,
   "metadata": {},
   "outputs": [],
   "source": [
    "def calculate_r_squared(actuals, predictions):\n",
    "    actuals, predictions = actuals.numpy(), predictions.numpy()\n",
    "    # Calculate the total sum of squares\n",
    "    total_sum_of_squares = np.sum((actuals - np.mean(actuals)) ** 2)\n",
    "    # Calculate the residual sum of squares\n",
    "    residual_sum_of_squares = np.sum((actuals - predictions) ** 2)\n",
    "    # Calculate R-squared\n",
    "    r_squared = 1 - (residual_sum_of_squares / total_sum_of_squares)\n",
    "    return r_squared"
   ]
  },
  {
   "cell_type": "code",
   "execution_count": 47,
   "metadata": {},
   "outputs": [],
   "source": [
    "domains = ratios.columns[2:].values"
   ]
  },
  {
   "cell_type": "code",
   "execution_count": 49,
   "metadata": {},
   "outputs": [
    {
     "name": "stdout",
     "output_type": "stream",
     "text": [
      "0\n"
     ]
    },
    {
     "name": "stderr",
     "output_type": "stream",
     "text": [
      "100%|██████████| 300/300 [00:10<00:00, 29.03it/s]\n",
      "/tmp/ipykernel_2953460/2805919464.py:24: UserWarning: To copy construct from a tensor, it is recommended to use sourceTensor.clone().detach() or sourceTensor.clone().detach().requires_grad_(True), rather than torch.tensor(sourceTensor).\n",
      "  r2_train = calculate_r_squared(torch.tensor(y), torch.tensor(prediction_train))\n"
     ]
    },
    {
     "name": "stdout",
     "output_type": "stream",
     "text": [
      "min loss: 0.00018002837896347046\n",
      "0.9423059723711135\n",
      "RMSE: 0.021045172930669837, MAE: 0.016915537416934967, MSE: 0.00044289929792284966, R2: 0.8861629125224356\n",
      "0.00044289929792284966 0.0\n",
      "0.8861629125224356 0.0\n"
     ]
    },
    {
     "data": {
      "image/png": "[encoded data removed]",
      "text/plain": [
       "<Figure size 640x480 with 1 Axes>"
      ]
     },
     "metadata": {},
     "output_type": "display_data"
    }
   ],
   "source": [
    "params = {}\n",
    "\n",
    "mses = []\n",
    "r2s = []\n",
    "\n",
    "for i in range(Y.shape[-1]): # each task:\n",
    "    y = Y[:, i]\n",
    "        \n",
    "    law = ScalingLaw(mixing_law)\n",
    "\n",
    "    print(i)\n",
    "\n",
    "    p = law.fit(X, y, init_params_law(i, num_domains=len(domains)), max_step=100, delta=0.02)\n",
    "    params[i] = p\n",
    "\n",
    "    prediction_train = mixing_law(torch.tensor(X, dtype=torch.float), torch.tensor(p, dtype=torch.float))\n",
    "    rmse_train = (torch.mean((prediction_train - y)**2)**0.5).item()\n",
    "    mae_train = torch.mean(torch.abs(prediction_train - y)).item()\n",
    "    mse_train = torch.nn.functional.mse_loss(prediction_train, torch.tensor(y, dtype=torch.float)).item()\n",
    "\n",
    "\n",
    "    r2_again = np.corrcoef(y, prediction_train)[0, 1]\n",
    "    print(r2_again)\n",
    "    r2_train = calculate_r_squared(torch.tensor(y), torch.tensor(prediction_train))\n",
    "\n",
    "    mses.append(mse_train)\n",
    "    r2s.append(r2_train)\n",
    "\n",
    "\n",
    "    print(f\"RMSE: {rmse_train}, MAE: {mae_train}, MSE: {mse_train}, R2: {r2_train}\")\n",
    "\n",
    "    plt.figure()\n",
    "    plt.scatter(prediction_train, y)\n",
    "    plt.xlabel(\"Predicted\")\n",
    "    plt.ylabel(\"Actual\")\n",
    "    plt.grid() \n",
    "    plt.title(eval_metric_group.value[i])\n",
    "\n",
    "mses = np.array(mses)\n",
    "r2s = np.array(r2s)\n",
    "\n",
    "print(mses.mean(), mses.std())\n",
    "print(r2s.mean(), r2s.std())"
   ]
  },
  {
   "cell_type": "code",
   "execution_count": 38,
   "metadata": {},
   "outputs": [],
   "source": [
    "from sklearn.model_selection import train_test_split"
   ]
  },
  {
   "cell_type": "code",
   "execution_count": 39,
   "metadata": {},
   "outputs": [],
   "source": [
    "X_train, X_test, y_train, y_test = train_test_split(X, Y, test_size=0.2, random_state=42)"
   ]
  },
  {
   "cell_type": "code",
   "execution_count": 40,
   "metadata": {},
   "outputs": [
    {
     "name": "stdout",
     "output_type": "stream",
     "text": [
      "0\n"
     ]
    },
    {
     "name": "stderr",
     "output_type": "stream",
     "text": [
      "100%|██████████| 300/300 [00:24<00:00, 12.22it/s]\n",
      "/tmp/ipykernel_222382/3476110816.py:21: UserWarning: To copy construct from a tensor, it is recommended to use sourceTensor.clone().detach() or sourceTensor.clone().detach().requires_grad_(True), rather than torch.tensor(sourceTensor).\n",
      "  r2_train = calculate_r_squared(torch.tensor(y_train), torch.tensor(prediction_train))\n",
      "/tmp/ipykernel_222382/3476110816.py:22: UserWarning: To copy construct from a tensor, it is recommended to use sourceTensor.clone().detach() or sourceTensor.clone().detach().requires_grad_(True), rather than torch.tensor(sourceTensor).\n",
      "  r2_test = calculate_r_squared(torch.tensor(y_test), torch.tensor(prediction_test))\n",
      "/tmp/ipykernel_222382/3476110816.py:75: RuntimeWarning: Mean of empty slice.\n",
      "  print(mses.mean(), mses.std())\n",
      "/home/mayee/miniconda3/envs/mayeeenv/lib/python3.13/site-packages/numpy/core/_methods.py:129: RuntimeWarning: invalid value encountered in scalar divide\n",
      "  ret = ret.dtype.type(ret / rcount)\n",
      "/home/mayee/miniconda3/envs/mayeeenv/lib/python3.13/site-packages/numpy/core/_methods.py:206: RuntimeWarning: Degrees of freedom <= 0 for slice\n",
      "  ret = _var(a, axis=axis, dtype=dtype, out=out, ddof=ddof,\n",
      "/home/mayee/miniconda3/envs/mayeeenv/lib/python3.13/site-packages/numpy/core/_methods.py:163: RuntimeWarning: invalid value encountered in divide\n",
      "  arrmean = um.true_divide(arrmean, div, out=arrmean,\n",
      "/home/mayee/miniconda3/envs/mayeeenv/lib/python3.13/site-packages/numpy/core/_methods.py:198: RuntimeWarning: invalid value encountered in scalar divide\n",
      "  ret = ret.dtype.type(ret / rcount)\n"
     ]
    },
    {
     "name": "stdout",
     "output_type": "stream",
     "text": [
      "min loss: 0.0004914437886327505\n",
      "R2: 0.905199134311839\n",
      "nan nan\n",
      "0.905199134311839 0.0\n"
     ]
    },
    {
     "data": {
      "image/png": "[encoded data removed]",
      "text/plain": [
       "<Figure size 640x480 with 1 Axes>"
      ]
     },
     "metadata": {},
     "output_type": "display_data"
    }
   ],
   "source": [
    "params = {}\n",
    "\n",
    "mses = []\n",
    "r2s = []\n",
    "\n",
    "for i in range(Y.shape[-1]): # each task:\n",
    "    y = Y[:, i]\n",
    "    X_train, X_test, y_train, y_test = train_test_split(X, y, test_size=0.2, random_state=42)\n",
    "    law = ScalingLaw(mixing_law)\n",
    "\n",
    "    print(i)\n",
    "\n",
    "    p = law.fit(X_train, y_train, init_params_law(i, num_domains=len(domains)), max_step=100, delta=0.02)\n",
    "    params[i] = p\n",
    "\n",
    "    prediction_train = mixing_law(torch.tensor(X_train, dtype=torch.float), torch.tensor(p, dtype=torch.float))\n",
    "    prediction_test = mixing_law(torch.tensor(X_test, dtype=torch.float), torch.tensor(p, dtype=torch.float))\n",
    "    #rmse_train = (torch.mean((prediction_train - y_train)**2)**0.5).item()\n",
    "    #mae_train = torch.mean(torch.abs(prediction_train - y)).item()\n",
    "    #mse_train = torch.nn.functional.mse_loss(prediction_train, torch.tensor(y, dtype=torch.float)).item()\n",
    "    r2_train = calculate_r_squared(torch.tensor(y_train), torch.tensor(prediction_train))\n",
    "    r2_test = calculate_r_squared(torch.tensor(y_test), torch.tensor(prediction_test))\n",
    "\n",
    "    r2s.append(r2_train)\n",
    "\n",
    "\n",
    "    print(f\"R2: {r2_train}\")\n",
    "\n",
    "    plt.figure()\n",
    "    plt.scatter(prediction_train, y_train)\n",
    "    plt.xlabel(\"Predicted\")\n",
    "    plt.ylabel(\"Actual\")\n",
    "    plt.grid() \n",
    "    plt.title(eval_metric_group.value[i])\n",
    "\n",
    "\n",
    "\n",
    "    # Plot test\n",
    "    sns.regplot(\n",
    "        x=prediction_test.numpy(),\n",
    "        y=y_test,\n",
    "        scatter_kws={\"s\": 64, \"color\": \"#105257\"},\n",
    "        line_kws={\"color\": \"#F0529C\", \"linewidth\": 3, \"linestyle\": \"dashed\"},\n",
    "        label=\"Test\"\n",
    "    )\n",
    "\n",
    "    # Plot train\n",
    "    sns.regplot(\n",
    "        x=prediction_train.numpy(),\n",
    "        y=y_train,\n",
    "        scatter_kws={\"s\": 64, \"color\": \"#B0C4DE\"},\n",
    "        line_kws={\"color\": \"#8888FF\", \"linewidth\": 3, \"linestyle\": \"dotted\"},\n",
    "        label=\"Train\"\n",
    "    )\n",
    "\n",
    "    corr_test = np.corrcoef(prediction_test, y_test)[0, 1]\n",
    "    corr_train = np.corrcoef(prediction_train, y_train)[0, 1]\n",
    "\n",
    "    import matplotlib.patches as mpatches\n",
    "\n",
    "    test_dot = mpatches.Patch(color=\"#105257\", label=f\"Test: {np.round(corr_test * 100, 2)}\")\n",
    "    train_dot = mpatches.Patch(color=\"#B0C4DE\", label=f\"Train: {np.round(corr_train * 100, 2)}\")\n",
    "\n",
    "    plt.legend(\n",
    "        handles=[test_dot, train_dot],\n",
    "        title=f\"{eval_metric_group.value[i].split('/')[-1]} correlations\",\n",
    "        fontsize=14,\n",
    "        title_fontsize=16,\n",
    "    )\n",
    "\n",
    "\n",
    "mses = np.array(mses)\n",
    "r2s = np.array(r2s)\n",
    "\n",
    "print(mses.mean(), mses.std())\n",
    "print(r2s.mean(), r2s.std())"
   ]
  },
  {
   "cell_type": "markdown",
   "metadata": {},
   "source": [
    "# Random stuff"
   ]
  },
  {
   "cell_type": "code",
   "execution_count": 77,
   "metadata": {},
   "outputs": [
    {
     "name": "stdout",
     "output_type": "stream",
     "text": [
      "{'config': 'src/regmixer/config/dclm-datadelve-5xC-30m-dolma2tok.yaml', 'alpha': 1.0, 'num_samples': 1, 'simulation_samples': 100000, 'group_average': 'c4', 'group_metrics': None, 'workspace': 'ai2-llm/regmixer', 'regression_type': 'log_linear', 'train_split': 1.0, 'n_test': 10, 'seed': 0, 'opt_avg_metric': False}\n",
      "{'config': 'src/regmixer/config/dclm-datadelve-5xC-30m-dolma2tok.yaml', 'alpha': 1.0, 'num_samples': 1, 'simulation_samples': 100000, 'group_average': 'c4', 'group_metrics': None, 'workspace': 'ai2-llm/regmixer', 'regression_type': 'log_linear', 'train_split': 1.0, 'n_test': 10, 'seed': 1, 'opt_avg_metric': False}\n",
      "{'config': 'src/regmixer/config/dclm-datadelve-5xC-30m-dolma2tok.yaml', 'alpha': 1.0, 'num_samples': 1, 'simulation_samples': 100000, 'group_average': 'c4', 'group_metrics': None, 'workspace': 'ai2-llm/regmixer', 'regression_type': 'log_linear', 'train_split': 1.0, 'n_test': 10, 'seed': 3, 'opt_avg_metric': False}\n",
      "{'config': 'src/regmixer/config/dclm-datadelve-5xC-30m-dolma2tok.yaml', 'alpha': 1.0, 'num_samples': 1, 'simulation_samples': 100000, 'group_average': 'c4', 'group_metrics': None, 'workspace': 'ai2-llm/regmixer', 'regression_type': 'log_linear', 'train_split': 1.0, 'n_test': 10, 'seed': 4, 'opt_avg_metric': False}\n",
      "{'config': 'src/regmixer/config/dclm-datadelve-5xC-30m-dolma2tok.yaml', 'alpha': 1.0, 'num_samples': 1, 'simulation_samples': 100000, 'group_average': 'c4', 'group_metrics': None, 'workspace': 'ai2-llm/regmixer', 'regression_type': 'log_linear', 'train_split': 1.0, 'n_test': 10, 'seed': 2, 'opt_avg_metric': False}\n"
     ]
    }
   ],
   "source": [
    "dir = \"output/206f164f\"\n",
    "\n",
    "folders = os.listdir(dir)\n",
    "\n",
    "results = []\n",
    "\n",
    "for folder in folders:\n",
    "\n",
    "    config_path = os.path.join(dir, folder, \"config.json\")\n",
    "    with open(config_path, \"r\") as f:\n",
    "        config = json.load(f)\n",
    "\n",
    "\n",
    "    if config['group_average'] != 'c4' or config['regression_type'] != \"log_linear\" or config[\"n_test\"] == 0:\n",
    "        continue \n",
    "    print(config)\n",
    "    \n",
    "\n",
    "    files = os.listdir(os.path.join(dir, folder))\n",
    "    for file in files:\n",
    "        if file.endswith(\"correlations.json\"):\n",
    "            with open(os.path.join(dir, folder, file), \"r\") as f:\n",
    "                correlations = json.load(f)\n",
    "                results.append(correlations)\n"
   ]
  },
  {
   "cell_type": "code",
   "execution_count": 78,
   "metadata": {},
   "outputs": [
    {
     "data": {
      "text/plain": [
       "(0.6854537138749623, 0.5876017631107042)"
      ]
     },
     "execution_count": 78,
     "metadata": {},
     "output_type": "execute_result"
    }
   ],
   "source": [
    "# log-linear\n",
    "np.array([r['train'] for r in results]).mean(), np.array([r['test'] for r in results]).mean()"
   ]
  },
  {
   "cell_type": "code",
   "execution_count": 76,
   "metadata": {},
   "outputs": [
    {
     "data": {
      "text/plain": [
       "(0.6822588355049426, 0.37887928149536865)"
      ]
     },
     "execution_count": 76,
     "metadata": {},
     "output_type": "execute_result"
    }
   ],
   "source": [
    "# lightgbm\n",
    "np.array([r['train'] for r in results]).mean(), np.array([r['test'] for r in results]).mean()"
   ]
  },
  {
   "cell_type": "markdown",
   "metadata": {},
   "source": [
    "# visualization"
   ]
  },
  {
   "cell_type": "code",
   "execution_count": 80,
   "metadata": {},
   "outputs": [
    {
     "data": {
      "text/plain": [
       "(64,)"
      ]
     },
     "execution_count": 80,
     "metadata": {},
     "output_type": "execute_result"
    }
   ],
   "source": [
    "x.shape"
   ]
  },
  {
   "cell_type": "code",
   "execution_count": 82,
   "metadata": {},
   "outputs": [
    {
     "data": {
      "text/plain": [
       "array([2.07414961, 2.10236311, 1.93897307, 1.90095043, 2.07080817,\n",
       "       2.12173319, 1.90775919, 1.95884633, 2.15319943, 2.20910764,\n",
       "       2.04011631, 1.94566429, 2.03840494, 2.07558823, 2.02990341,\n",
       "       2.00051141, 2.12222314, 2.01352382, 1.9538697 , 1.95213532,\n",
       "       2.0329237 , 2.11360192, 2.09871173, 1.96043444, 1.96787369,\n",
       "       2.07017446, 2.12491035, 1.9702543 , 2.03950977, 1.9139688 ,\n",
       "       1.98893726, 1.93446183, 1.97821307, 2.11518741, 1.98258793,\n",
       "       1.96210968, 1.96611297, 2.04639339, 1.92158401, 2.01039195,\n",
       "       2.0256207 , 1.92591274, 1.92355359, 2.04690623, 1.94203103,\n",
       "       2.06237173, 1.96575367, 2.0871098 , 1.99101853, 1.98834038,\n",
       "       2.01632786, 1.96241546, 2.03211975, 1.94482172, 2.07947302,\n",
       "       1.99946487, 1.96988106, 1.92096913, 1.95282984, 1.90864539,\n",
       "       2.12769461, 1.98512304, 2.03541517, 1.97573221])"
      ]
     },
     "execution_count": 82,
     "metadata": {},
     "output_type": "execute_result"
    }
   ],
   "source": [
    "z.flatten()"
   ]
  },
  {
   "cell_type": "code",
   "execution_count": 102,
   "metadata": {},
   "outputs": [
    {
     "data": {
      "text/plain": [
       "Index(['politics', 'entertainment', 'health'], dtype='object')"
      ]
     },
     "execution_count": 102,
     "metadata": {},
     "output_type": "execute_result"
    }
   ],
   "source": [
    "ratios.columns[2:]"
   ]
  },
  {
   "cell_type": "code",
   "execution_count": 113,
   "metadata": {},
   "outputs": [
    {
     "data": {
      "image/png": "[encoded data removed]",
      "text/plain": [
       "<Figure size 640x480 with 2 Axes>"
      ]
     },
     "metadata": {},
     "output_type": "display_data"
    }
   ],
   "source": [
    "%matplotlib inline\n",
    "\n",
    "import numpy as np\n",
    "import matplotlib.pyplot as plt\n",
    "\n",
    "from mpl_toolkits.mplot3d import Axes3D  # Needed for 3D plotting\n",
    "\n",
    "# Example data (you can replace with your actual arrays)\n",
    "# X is shape (64, 3)\n",
    "# Y is shape (64,)\n",
    "# For demonstration:\n",
    "# X = np.random.rand(64, 3)\n",
    "# Y = np.random.rand(64)\n",
    "\n",
    "# Extract coordinates\n",
    "idx1 = 1\n",
    "idx2 = 0\n",
    "x = X[:, idx1]\n",
    "y = X[:, idx2]\n",
    "z = Y.flatten()\n",
    "\n",
    "# Create 3D plot\n",
    "fig = plt.figure()\n",
    "ax = fig.add_subplot(111, projection='3d')\n",
    "\n",
    "surf = ax.plot_trisurf(x, y, z, cmap='viridis', edgecolor='none')\n",
    "\n",
    "# Optional: Add color bar\n",
    "fig.colorbar(surf, ax=ax, shrink=0.5, aspect=5)\n",
    "\n",
    "# Labels\n",
    "ax.set_xlabel(ratios.columns[2:][idx1])\n",
    "ax.set_ylabel(ratios.columns[2:][idx2])\n",
    "plt.title('[politics, entertainment, health] vs arc_easy')\n",
    "\n",
    "plt.tight_layout()\n",
    "plt.show()"
   ]
  }
 ],
 "metadata": {
  "kernelspec": {
   "display_name": "mayeeenv",
   "language": "python",
   "name": "python3"
  },
  "language_info": {
   "codemirror_mode": {
    "name": "ipython",
    "version": 3
   },
   "file_extension": ".py",
   "mimetype": "text/x-python",
   "name": "python",
   "nbconvert_exporter": "python",
   "pygments_lexer": "ipython3",
   "version": "3.13.1"
  }
 },
 "nbformat": 4,
 "nbformat_minor": 2
}
